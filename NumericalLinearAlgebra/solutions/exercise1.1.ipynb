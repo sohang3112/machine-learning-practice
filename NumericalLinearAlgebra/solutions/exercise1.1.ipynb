{
 "cells": [
  {
   "cell_type": "markdown",
   "id": "4cae7d68",
   "metadata": {},
   "source": [
    "For any transform, start with $M$ as identity matrix and apply desired linear transform to $M$ - eg. linear combination of input matrix's columns/rows, inserting/deleting columns/rows.\n",
    "Final result matrix is $A = M B$ for column transform, or $A = B M$ for row transform.\n",
    "\n",
    "Common case of scaling a single row/column is done with a _diagonal matrix_, eg. `np.diag([2,1,1,1])` - all 1s in diagonal, except for multiplier at the row/column index to be scaled (here 1st column is to be doubled).\n",
    "\n",
    "#### Solution Derivation (column transform)\n",
    "\n",
    "Explanation for the first task, remaining tasks are similar:\n",
    "\n",
    "- First task is to double first column of input matrix $B$. We'll calculate transform matrix $M$ such that $A = M B$ .\n",
    "- Column vectors of input $B$ are transformed by $M$ to get result matrix column vectors:\n",
    "  $$[\\mathbf{a_1}, \\mathbf{a_2}, \\mathbf{a_3}, \\mathbf{a_4}] = [M \\mathbf{b_1}, M \\mathbf{b_2}, M \\mathbf{b_3}, M \\mathbf{b_4}]$$\n",
    "- Each column vector of $M$ can be written in terms of _unit basis vectors_ $\\mathbf{e_i}$. In this task, transforming first column doubles it (2x), rest remain same (1x). So:\n",
    "  $$M = [M \\mathbf{e_1}, M \\mathbf{e_2}, M \\mathbf{e_3}, M \\mathbf {e_4}] = [2 \\mathbf{e_1}, \\mathbf{e_2}, \\mathbf{e_3}, \\mathbf{e_4}]$$\n",
    "- Unit basis vector $\\mathbf{e_i}$ has $1$ at index $i$, $0$ everywhere else. So expanding above into full transform matrix:\n",
    "  $$\n",
    "  M = \\begin{bmatrix}\n",
    "  2 & 0 & 0 & 0 \\\\\n",
    "  0 & 1 & 0 & 0 \\\\\n",
    "  0 & 0 & 1 & 0 \\\\\n",
    "  0 & 0 & 0 & 1 \\\\\n",
    "  \\end{bmatrix}\n",
    "  $$\n",
    "  NOTE: This is a **Diagonal matrix** (since values are only on main diagonal, rest are 0). So it's written simply as $np.diag([2,1,1,1])$ .\n",
    "- Final result matrix is $A = M B$ .\n",
    "\n",
    "#### Solution Derivation (row transform)\n",
    "\n",
    "- We'll calculate transform row matrix $M$.\n",
    "- We can transpose input $B$, calculate [column transform](#solution-derivation-column-transform) matrix $M^T$, then transpose back to get final result: $A = (M^T B^T)^T$ .\n",
    "- But $(P Q)^T = Q^T P^T$, so we get $A = B M$ .\n",
    "\n",
    "#### Naming Convention\n",
    "\n",
    "In the below code (unlike usual Python naming convention), matrix variable names start with capital letters to keep it consistent with _README.md_ .\n"
   ]
  },
  {
   "cell_type": "code",
   "execution_count": 1,
   "id": "8b53b6ee-0a61-40f3-aa9b-cde6083d674a",
   "metadata": {},
   "outputs": [],
   "source": [
    "import numpy as np\n",
    "B = np.reshape(np.random.permutation(np.arange(4*4)), (4,4))    # test input matrix"
   ]
  },
  {
   "cell_type": "markdown",
   "id": "436baf88",
   "metadata": {},
   "source": [
    "#### Main Code\n"
   ]
  },
  {
   "cell_type": "code",
   "execution_count": 2,
   "id": "573d2ce5-029e-4eb9-9b3a-ba309fb5ca9c",
   "metadata": {
    "jupyter": {
     "source_hidden": true
    }
   },
   "outputs": [],
   "source": [
    "Bdirect = B.astype('float')\n",
    "Btransform = B.astype('float')\n",
    "\n",
    "t1 = 'double column 1'\n",
    "M1 = np.diag(np.array([2,1,1,1]))\n",
    "Btransform = Btransform @ M1\n",
    "Bdirect[:, 0] *= 2\n",
    "assert (Btransform == Bdirect).all(), f'{t1} - both answers different!'\n",
    "\n",
    "t2 = 'halve row 3'\n",
    "M2 = np.diag(np.array([1,1,0.5,1]))\n",
    "Btransform = M2 @ Btransform\n",
    "Bdirect[2, :] /= 2\n",
    "assert (Btransform == Bdirect).all(), f'{t2} - both answers different!'\n",
    "\n",
    "t3 = 'add row 1 to row 3 '\n",
    "M3 = np.identity(4)\n",
    "M3[2,0] = 1\n",
    "Btransform = M3 @ Btransform\n",
    "Bdirect[2, :] += Bdirect[0, :]\n",
    "assert (Btransform == Bdirect).all(), f'{t3} - both answers different!'\n",
    "\n",
    "t4 = 'interchange columns 1 and 4'\n",
    "M4 = np.identity(4)\n",
    "M4[:, [0,3]] = M4[:, [3,0]]       # cool numpy slicing (select non-contigous columns explicitly!)\n",
    "Btransform = Btransform @ M4\n",
    "Bdirect[:, [0,3]] = Bdirect[:, [3,0]]\n",
    "assert (Btransform == Bdirect).all(), f'{t4} - both answers different!'\n",
    "\n",
    "t5 = 'subtract row 2 from rest 3 rows'\n",
    "M5 = np.identity(4)\n",
    "M5[[0,2,3], 1] = -1\n",
    "Btransform = M5 @ Btransform\n",
    "Bdirect[[0,2,3], :] -= Bdirect[1]\n",
    "assert (Btransform == Bdirect).all(), f'{t5} - both answers different!'\n",
    "\n",
    "t6 = 'subtract row 2 from rest 3 rows'\n",
    "M6 = np.identity(4)\n",
    "M6[:, 3] = M6[:, 2]\n",
    "Btransform = Btransform @ M6\n",
    "Bdirect[:, 3] = Bdirect[:, 2]\n",
    "assert (Btransform == Bdirect).all(), f'{t6} - both answers different!'\n",
    "\n",
    "t7 = 'delete column 1'\n",
    "M7 = np.delete(np.identity(4), 0, axis=1)   # axis 0 is 'index', 1 is 'column'\n",
    "Btransform = Btransform @ M7\n",
    "Bdirect = np.delete(Bdirect, 0, axis=1)\n",
    "assert (Btransform == Bdirect).all(), f'{t7} - both answers different!'"
   ]
  },
  {
   "cell_type": "markdown",
   "id": "3208efa5-a338-4407-86c9-ccc863ff9291",
   "metadata": {
    "jp-MarkdownHeadingCollapsed": true
   },
   "source": [
    "#### Answer to (a)\n"
   ]
  },
  {
   "cell_type": "code",
   "execution_count": 3,
   "id": "98c91ca7-c5cd-42cc-890b-41b6b53efcc3",
   "metadata": {},
   "outputs": [
    {
     "name": "stdout",
     "output_type": "stream",
     "text": [
      "PRODUCT OF 8 MATRICES (in order):\n",
      "\n",
      " subtract row 2 from rest 3 rows\n"
     ]
    },
    {
     "data": {
      "text/plain": [
       "array([[ 1., -1.,  0.,  0.],\n",
       "       [ 0.,  1.,  0.,  0.],\n",
       "       [ 0., -1.,  1.,  0.],\n",
       "       [ 0., -1.,  0.,  1.]])"
      ]
     },
     "metadata": {},
     "output_type": "display_data"
    },
    {
     "name": "stdout",
     "output_type": "stream",
     "text": [
      "\n",
      " add row 1 to row 3 \n"
     ]
    },
    {
     "data": {
      "text/plain": [
       "array([[1., 0., 0., 0.],\n",
       "       [0., 1., 0., 0.],\n",
       "       [1., 0., 1., 0.],\n",
       "       [0., 0., 0., 1.]])"
      ]
     },
     "metadata": {},
     "output_type": "display_data"
    },
    {
     "name": "stdout",
     "output_type": "stream",
     "text": [
      "\n",
      " halve row 3\n"
     ]
    },
    {
     "data": {
      "text/plain": [
       "array([[1. , 0. , 0. , 0. ],\n",
       "       [0. , 1. , 0. , 0. ],\n",
       "       [0. , 0. , 0.5, 0. ],\n",
       "       [0. , 0. , 0. , 1. ]])"
      ]
     },
     "metadata": {},
     "output_type": "display_data"
    },
    {
     "name": "stdout",
     "output_type": "stream",
     "text": [
      "\n",
      " ORIGINAL\n"
     ]
    },
    {
     "data": {
      "text/plain": [
       "array([[14,  6,  8,  1],\n",
       "       [ 4,  2,  7,  0],\n",
       "       [10,  3,  5,  9],\n",
       "       [13, 15, 11, 12]])"
      ]
     },
     "metadata": {},
     "output_type": "display_data"
    },
    {
     "name": "stdout",
     "output_type": "stream",
     "text": [
      "\n",
      " double column 1\n"
     ]
    },
    {
     "data": {
      "text/plain": [
       "array([[2, 0, 0, 0],\n",
       "       [0, 1, 0, 0],\n",
       "       [0, 0, 1, 0],\n",
       "       [0, 0, 0, 1]])"
      ]
     },
     "metadata": {},
     "output_type": "display_data"
    },
    {
     "name": "stdout",
     "output_type": "stream",
     "text": [
      "\n",
      " interchange columns 1 and 4\n"
     ]
    },
    {
     "data": {
      "text/plain": [
       "array([[0., 0., 0., 1.],\n",
       "       [0., 1., 0., 0.],\n",
       "       [0., 0., 1., 0.],\n",
       "       [1., 0., 0., 0.]])"
      ]
     },
     "metadata": {},
     "output_type": "display_data"
    },
    {
     "name": "stdout",
     "output_type": "stream",
     "text": [
      "\n",
      " subtract row 2 from rest 3 rows\n"
     ]
    },
    {
     "data": {
      "text/plain": [
       "array([[1., 0., 0., 0.],\n",
       "       [0., 1., 0., 0.],\n",
       "       [0., 0., 1., 1.],\n",
       "       [0., 0., 0., 0.]])"
      ]
     },
     "metadata": {},
     "output_type": "display_data"
    },
    {
     "name": "stdout",
     "output_type": "stream",
     "text": [
      "\n",
      " delete column 1\n"
     ]
    },
    {
     "data": {
      "text/plain": [
       "array([[0., 0., 0.],\n",
       "       [1., 0., 0.],\n",
       "       [0., 1., 0.],\n",
       "       [0., 0., 1.]])"
      ]
     },
     "metadata": {},
     "output_type": "display_data"
    }
   ],
   "source": [
    "print('PRODUCT OF 8 MATRICES (in order):')\n",
    "for t, transform_matrix in [(t5,M5), (t3,M3), (t2,M2), ('ORIGINAL',B), (t1,M1), (t4,M4), (t6,M6), (t7,M7)]:\n",
    "    print('\\n', t)\n",
    "    display(transform_matrix)\n",
    "assert (M5 @ M3 @ M2 @ B @ M1 @ M4 @ M6 @ M7 == Btransform).all()"
   ]
  },
  {
   "cell_type": "markdown",
   "id": "4171319a-f55d-4cd7-8b6c-81a851a5c59f",
   "metadata": {
    "jp-MarkdownHeadingCollapsed": true
   },
   "source": [
    "#### Answer to (b)\n",
    "\n",
    "Since matrix multiplication is associative $(A B) C = A (B C)$, but NOT commutative $A B \\neq B A$,\n",
    "we can multiply any 2 matrices first and substitute result as long as overall multiplication order is maintained.\n"
   ]
  },
  {
   "cell_type": "code",
   "execution_count": 5,
   "id": "fca921e6-34dc-4072-adff-4c0cd11474b7",
   "metadata": {},
   "outputs": [
    {
     "name": "stdout",
     "output_type": "stream",
     "text": [
      "PRODUCT OF 3 MATRICES (middle not shown as it's same as input matrix):\n",
      "LEFT:\n"
     ]
    },
    {
     "data": {
      "text/plain": [
       "array([[ 1. , -1. ,  0. ,  0. ],\n",
       "       [ 0. ,  1. ,  0. ,  0. ],\n",
       "       [ 1. , -1. ,  0.5,  0. ],\n",
       "       [ 0. , -1. ,  0. ,  1. ]])"
      ]
     },
     "metadata": {},
     "output_type": "display_data"
    },
    {
     "name": "stdout",
     "output_type": "stream",
     "text": [
      "RIGHT:\n"
     ]
    },
    {
     "data": {
      "text/plain": [
       "array([[0., 0., 0.],\n",
       "       [1., 0., 0.],\n",
       "       [0., 1., 1.],\n",
       "       [0., 0., 0.]])"
      ]
     },
     "metadata": {},
     "output_type": "display_data"
    }
   ],
   "source": [
    "print(\"PRODUCT OF 3 MATRICES (middle not shown as it's same as input matrix):\")\n",
    "Left = M5 @ M3 @ M2\n",
    "Right = M1 @ M4 @ M6 @ M7\n",
    "print('LEFT:')\n",
    "display(Left)\n",
    "print('RIGHT:')\n",
    "display(Right)\n",
    "assert (Left @ B @ Right == Btransform).all()"
   ]
  },
  {
   "cell_type": "markdown",
   "id": "c279e16d",
   "metadata": {},
   "source": [
    "#### Output Matrix for Test Input\n"
   ]
  },
  {
   "cell_type": "code",
   "execution_count": 6,
   "id": "3d1e2349-36ae-4ffd-a4f9-0e99964c31c6",
   "metadata": {},
   "outputs": [
    {
     "data": {
      "text/plain": [
       "array([[ 4. ,  1. ,  1. ],\n",
       "       [ 2. ,  7. ,  7. ],\n",
       "       [ 5.5,  3.5,  3.5],\n",
       "       [13. ,  4. ,  4. ]])"
      ]
     },
     "execution_count": 6,
     "metadata": {},
     "output_type": "execute_result"
    }
   ],
   "source": [
    "Btransform"
   ]
  },
  {
   "cell_type": "code",
   "execution_count": null,
   "id": "a30c7f01",
   "metadata": {},
   "outputs": [],
   "source": []
  }
 ],
 "metadata": {
  "kernelspec": {
   "display_name": "py310",
   "language": "python",
   "name": "python3"
  },
  "language_info": {
   "codemirror_mode": {
    "name": "ipython",
    "version": 3
   },
   "file_extension": ".py",
   "mimetype": "text/x-python",
   "name": "python",
   "nbconvert_exporter": "python",
   "pygments_lexer": "ipython3",
   "version": "3.10.17"
  }
 },
 "nbformat": 4,
 "nbformat_minor": 5
}
