{
 "cells": [
  {
   "cell_type": "code",
   "execution_count": 3,
   "id": "10505caf-c8f3-47f8-8f48-688457dfce7e",
   "metadata": {},
   "outputs": [
    {
     "data": {
      "text/plain": [
       "array([[ 1.-0.j, -0.+1.j],\n",
       "       [ 0.-1.j,  1.-0.j]])"
      ]
     },
     "execution_count": 3,
     "metadata": {},
     "output_type": "execute_result"
    }
   ],
   "source": [
    "import numpy as np\n",
    "Q = np.array([[1, 1j], [-1j, 1]])\n",
    "Q.conj().T"
   ]
  },
  {
   "cell_type": "code",
   "execution_count": 6,
   "id": "27768b33-031e-4b8f-be8e-a6077213b1ff",
   "metadata": {},
   "outputs": [
    {
     "data": {
      "text/plain": [
       "np.True_"
      ]
     },
     "execution_count": 6,
     "metadata": {},
     "output_type": "execute_result"
    }
   ],
   "source": [
    "np.all(Q == Q.conj().T)\n"
   ]
  },
  {
   "cell_type": "code",
   "execution_count": null,
   "id": "9fc68a68-d6cc-4484-a792-28e5b438fc1f",
   "metadata": {},
   "outputs": [],
   "source": []
  }
 ],
 "metadata": {
  "kernelspec": {
   "display_name": "Python 3 (ipykernel)",
   "language": "python",
   "name": "python3"
  },
  "language_info": {
   "codemirror_mode": {
    "name": "ipython",
    "version": 3
   },
   "file_extension": ".py",
   "mimetype": "text/x-python",
   "name": "python",
   "nbconvert_exporter": "python",
   "pygments_lexer": "ipython3",
   "version": "3.13.7"
  }
 },
 "nbformat": 4,
 "nbformat_minor": 5
}
