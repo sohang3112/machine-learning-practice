{
 "cells": [
  {
   "cell_type": "code",
   "execution_count": 1,
   "metadata": {},
   "outputs": [
    {
     "data": {
      "text/plain": [
       "(0.3, -0.7499999999999999)"
      ]
     },
     "execution_count": 1,
     "metadata": {},
     "output_type": "execute_result"
    }
   ],
   "source": [
    "# binary outcome - True | False\n",
    "likelihood = 0.3        # P(Intial|Outcome)\n",
    "evidence = likelihood / (2*likelihood - 1)     # P(Outcome)\n",
    "\n",
    "# P(Initial|Outcome) * P(Outcome) + P(Initial|~Outcome) * P(~Outcome) = P(Initial) = 1\n",
    "# likelihood * evidence + (1 - likelihood) * (1 - evidence) = 1\n",
    "\n",
    "prior = 0.7             # initial guess\n",
    "likelihood, evidence"
   ]
  },
  {
   "cell_type": "code",
   "execution_count": 2,
   "metadata": {},
   "outputs": [
    {
     "data": {
      "text/plain": [
       "0.9999999999999999"
      ]
     },
     "execution_count": 2,
     "metadata": {},
     "output_type": "execute_result"
    }
   ],
   "source": [
    "likelihood * evidence + (1 - likelihood) * (1 - evidence)"
   ]
  },
  {
   "cell_type": "markdown",
   "metadata": {},
   "source": [
    "```\n",
    "Ax + (1-A)(1-x) = 1\n",
    "Ax + 1 - A - (1-A)x = 1\n",
    "A = (2A-1)x\n",
    "x = A / (2A-1)\n",
    "\n",
    "In 0 <= A < 0.5, x <= 0\n",
    "In 0.5 < A <= 1, x >= 1\n",
    "```\n",
    "So a solution to `Ax + (1-A)(1-x) = 1` such that `0 <= x <= 1` doesn't seem to be possible - something must be wrong here!"
   ]
  },
  {
   "cell_type": "code",
   "execution_count": 22,
   "metadata": {},
   "outputs": [
    {
     "data": {
      "text/plain": [
       "[A/(2*A - 1)]"
      ]
     },
     "execution_count": 22,
     "metadata": {},
     "output_type": "execute_result"
    }
   ],
   "source": [
    "import sympy\n",
    "A, x = sympy.symbols('A'), sympy.symbols('x')\n",
    "equation = A * x + (1-A) * (1-x) - 1\n",
    "sympy.solve(equation, x)"
   ]
  },
  {
   "cell_type": "code",
   "execution_count": 13,
   "metadata": {},
   "outputs": [
    {
     "name": "stdout",
     "output_type": "stream",
     "text": [
      "prior=0.033333333333333326, out=1, posterior=0.9000000000000001\n",
      "prior=0.9000000000000001, out=1, posterior=0.033333333333333326\n",
      "prior=0.033333333333333326, out=0, posterior=18.900000000000006\n",
      "prior=18.900000000000006, out=1, posterior=0.0015873015873015869\n",
      "prior=0.0015873015873015869, out=1, posterior=18.900000000000006\n",
      "prior=18.900000000000006, out=0, posterior=0.033333333333333326\n",
      "prior=0.033333333333333326, out=0, posterior=18.900000000000006\n",
      "prior=18.900000000000006, out=0, posterior=0.033333333333333326\n",
      "prior=0.033333333333333326, out=1, posterior=0.9000000000000001\n",
      "prior=0.9000000000000001, out=0, posterior=0.7\n"
     ]
    }
   ],
   "source": [
    "import random\n",
    "from tqdm.auto import tqdm\n",
    "tqdm.pandas()\n",
    "outcomes = [0]\n",
    "probabs = [prior]\n",
    "#for _ in tqdm(range(100)):\n",
    "for _ in range(10):\n",
    "    out = random.getrandbits(1)       # random bit - 0 or 1\n",
    "    # Bayes' Rule: P(Outcome|Initial) = P(Outcome) * P(Initial|Outcome) / P(Initial)\n",
    "    if out == 1:\n",
    "        posterior = evidence * likelihood / prior\n",
    "    else:       # out = 0\n",
    "        posterior = (1-evidence) * (1-likelihood) / prior\n",
    "    print(f'{prior=}, {out=}, {posterior=}')\n",
    "    prior = posterior\n",
    "    outcomes.append(out)\n",
    "    probabs.append(prior)"
   ]
  },
  {
   "cell_type": "code",
   "execution_count": 15,
   "metadata": {},
   "outputs": [
    {
     "data": {
      "text/plain": [
       "18.900000000000006"
      ]
     },
     "execution_count": 15,
     "metadata": {},
     "output_type": "execute_result"
    }
   ],
   "source": [
    "prior = 0.033333333333333326\n",
    "(1 - evidence) * (1 - likelihood) / prior"
   ]
  },
  {
   "cell_type": "code",
   "execution_count": 16,
   "metadata": {},
   "outputs": [
    {
     "data": {
      "text/plain": [
       "(0.9, 0.7)"
      ]
     },
     "execution_count": 16,
     "metadata": {},
     "output_type": "execute_result"
    }
   ],
   "source": [
    "1 - evidence, 1 - likelihood"
   ]
  },
  {
   "cell_type": "code",
   "execution_count": 27,
   "metadata": {},
   "outputs": [
    {
     "data": {
      "image/png": "[encoded data removed]",
      "text/plain": [
       "<Figure size 640x480 with 1 Axes>"
      ]
     },
     "metadata": {},
     "output_type": "display_data"
    }
   ],
   "source": [
    "import matplotlib.pyplot as plt\n",
    "\n",
    "f = lambda x: x / (2*x - 1)\n",
    "#xs = [0.6, 0.7, 0.8, 0.9, 1]\n",
    "xs = [0, 0.1, 0.2, 0.3, 0.4]\n",
    "ys = [f(x) for x in xs]\n",
    "\n",
    "plt.scatter(xs, ys)\n",
    "plt.show()"
   ]
  },
  {
   "cell_type": "code",
   "execution_count": 24,
   "metadata": {},
   "outputs": [
    {
     "data": {
      "text/plain": [
       "[3.0000000000000004, 1.7500000000000002, 1.3333333333333333, 1.125, 1.0]"
      ]
     },
     "execution_count": 24,
     "metadata": {},
     "output_type": "execute_result"
    }
   ],
   "source": [
    "ys"
   ]
  },
  {
   "cell_type": "code",
   "execution_count": null,
   "metadata": {},
   "outputs": [],
   "source": [
    "import matplotlib.pyplot as plt\n",
    "\n",
    "indices = list(range(1, len(probabs) + 1))\n",
    "\n",
    "# Define colors based on outcomes (0 -> red, 1 -> blue)\n",
    "colors = ['red' if outcome == 0 else 'blue' for outcome in outcomes]\n",
    "\n",
    "# Create the bar graph\n",
    "plt.figure(figsize=(10, 6))\n",
    "plt.bar(indices, probabs, color=colors)\n",
    "plt.xlabel('Iteration')\n",
    "plt.ylabel('Probability')\n",
    "plt.title('Prior-Posterior Loop')\n",
    "plt.xticks(indices)\n",
    "plt.show()"
   ]
  },
  {
   "cell_type": "code",
   "execution_count": 12,
   "metadata": {},
   "outputs": [
    {
     "data": {
      "text/plain": [
       "[0.7,\n",
       " 0.04285714285714286,\n",
       " 14.7,\n",
       " 0.0020408163265306124,\n",
       " 308.7,\n",
       " 9.718172983479106e-05,\n",
       " 6482.7,\n",
       " 9.718172983479106e-05,\n",
       " 6482.7,\n",
       " 9.718172983479106e-05,\n",
       " 308.7,\n",
       " 0.0020408163265306124,\n",
       " 14.699999999999998,\n",
       " 0.0020408163265306124,\n",
       " 14.699999999999998,\n",
       " 0.0020408163265306124,\n",
       " 14.699999999999998,\n",
       " 0.0020408163265306124,\n",
       " 308.7,\n",
       " 0.0020408163265306124,\n",
       " 308.7,\n",
       " 0.0020408163265306124,\n",
       " 308.7,\n",
       " 9.718172983479106e-05,\n",
       " 308.7,\n",
       " 9.718172983479106e-05,\n",
       " 6482.7,\n",
       " 4.627701420704336e-06,\n",
       " 6482.7,\n",
       " 9.718172983479106e-05,\n",
       " 6482.7,\n",
       " 4.627701420704336e-06,\n",
       " 6482.7,\n",
       " 4.627701420704336e-06,\n",
       " 6482.7,\n",
       " 9.718172983479106e-05,\n",
       " 6482.7,\n",
       " 4.627701420704336e-06,\n",
       " 6482.7,\n",
       " 4.627701420704336e-06,\n",
       " 136136.7,\n",
       " 2.2036673431925407e-07,\n",
       " 136136.7,\n",
       " 4.627701420704336e-06,\n",
       " 6482.7,\n",
       " 4.627701420704336e-06,\n",
       " 6482.7,\n",
       " 9.718172983479106e-05,\n",
       " 308.7,\n",
       " 9.718172983479106e-05,\n",
       " 6482.7,\n",
       " 9.718172983479106e-05,\n",
       " 6482.7,\n",
       " 9.718172983479106e-05,\n",
       " 6482.7,\n",
       " 9.718172983479106e-05,\n",
       " 6482.7,\n",
       " 9.718172983479106e-05,\n",
       " 308.7,\n",
       " 9.718172983479106e-05,\n",
       " 308.7,\n",
       " 9.718172983479106e-05,\n",
       " 308.7,\n",
       " 0.0020408163265306124,\n",
       " 308.7,\n",
       " 9.718172983479106e-05,\n",
       " 308.7,\n",
       " 9.718172983479106e-05,\n",
       " 308.7,\n",
       " 9.718172983479106e-05,\n",
       " 6482.7,\n",
       " 9.718172983479106e-05,\n",
       " 6482.7,\n",
       " 4.627701420704336e-06,\n",
       " 6482.7,\n",
       " 9.718172983479106e-05,\n",
       " 308.7,\n",
       " 0.0020408163265306124,\n",
       " 14.699999999999998,\n",
       " 0.0020408163265306124,\n",
       " 14.699999999999998,\n",
       " 0.0020408163265306124,\n",
       " 14.699999999999998,\n",
       " 0.042857142857142864,\n",
       " 14.699999999999998,\n",
       " 0.042857142857142864,\n",
       " 14.699999999999998,\n",
       " 0.042857142857142864,\n",
       " 14.699999999999998,\n",
       " 0.042857142857142864,\n",
       " 0.6999999999999998,\n",
       " 0.042857142857142864,\n",
       " 14.699999999999998,\n",
       " 0.042857142857142864,\n",
       " 0.6999999999999998,\n",
       " 0.042857142857142864,\n",
       " 0.6999999999999998,\n",
       " 0.9000000000000002,\n",
       " 0.033333333333333326,\n",
       " 0.9000000000000001,\n",
       " 0.033333333333333326]"
      ]
     },
     "execution_count": 12,
     "metadata": {},
     "output_type": "execute_result"
    }
   ],
   "source": [
    "probabs"
   ]
  },
  {
   "cell_type": "code",
   "execution_count": null,
   "metadata": {},
   "outputs": [],
   "source": []
  }
 ],
 "metadata": {
  "kernelspec": {
   "display_name": "Python 3",
   "language": "python",
   "name": "python3"
  },
  "language_info": {
   "codemirror_mode": {
    "name": "ipython",
    "version": 3
   },
   "file_extension": ".py",
   "mimetype": "text/x-python",
   "name": "python",
   "nbconvert_exporter": "python",
   "pygments_lexer": "ipython3",
   "version": "3.11.0"
  }
 },
 "nbformat": 4,
 "nbformat_minor": 2
}
